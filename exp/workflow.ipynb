{
 "cells": [
  {
   "cell_type": "code",
   "execution_count": 16,
   "metadata": {},
   "outputs": [],
   "source": [
    "from langchain.text_splitter import RecursiveCharacterTextSplitter\n",
    "from langchain.document_loaders import PyPDFLoader,DirectoryLoader\n",
    "from langchain_google_genai import ChatGoogleGenerativeAI, GoogleGenerativeAIEmbeddings\n",
    "# from langchain_astradb import AstraDBVectorStore\n",
    "from langchain_core.prompts import ChatPromptTemplate\n",
    "from langchain.pydantic_v1 import BaseModel, Field\n",
    "from langchain_core.output_parsers import StrOutputParser\n",
    "# from langchain import hub\n",
    "from langchain.schema import Document\n",
    "from langgraph.graph import START, StateGraph, END\n",
    "from typing import Literal, List\n",
    "from typing_extensions import TypedDict\n",
    "from dotenv import load_dotenv\n",
    "from PIL import Image\n",
    "import json\n",
    "# from IPython.display import Image\n",
    "import easyocr\n",
    "import os"
   ]
  },
  {
   "cell_type": "code",
   "execution_count": 17,
   "metadata": {},
   "outputs": [],
   "source": [
    "load_dotenv()\n",
    "GOOGLE_API_KEY = os.getenv(\"GOOGLE_API_KEY\")\n",
    "llm = ChatGoogleGenerativeAI(api_key = GOOGLE_API_KEY, model = \"gemini-1.5-pro\",temperature = 0.1)"
   ]
  },
  {
   "cell_type": "code",
   "execution_count": 12,
   "metadata": {},
   "outputs": [
    {
     "name": "stdout",
     "output_type": "stream",
     "text": [
      "Yes, I can summarize medical reports.  However, I am an AI and **cannot provide medical advice**.  My summaries are for informational purposes only and should not be used to make decisions about your health.  Always consult with a qualified medical professional for diagnosis and treatment.\n",
      "\n",
      "I can help by:\n",
      "\n",
      "* **Extracting key findings:**  I can identify and present the most important results from lab tests, imaging studies, and other diagnostic procedures.\n",
      "* **Summarizing diagnoses and treatment plans:** I can condense the information about the diagnosed conditions and the recommended course of action.\n",
      "* **Simplifying complex medical jargon:** I can explain technical terms in more accessible language.\n",
      "* **Identifying medications and dosages:** I can list the prescribed medications, their dosages, and frequency of administration.\n",
      "* **Highlighting follow-up recommendations:** I can point out scheduled appointments and recommended next steps.\n",
      "\n",
      "To help me provide the best summary, please provide me with the full text of the report or relevant sections.  Be sure to redact any personally identifiable information (PII) like your name, address, and medical record number before sharing the report.\n",
      "\n",
      "While I strive to be accurate, it's crucial to remember that my interpretations are based on pattern recognition and may not always be perfect.  **Always verify my summary with your doctor.**  They can provide context, answer your questions, and ensure the information is understood correctly.\n",
      "\n"
     ]
    }
   ],
   "source": [
    "R = llm.invoke(f\"Can you summarize medical reports?\").content\n",
    "print(R)"
   ]
  },
  {
   "cell_type": "code",
   "execution_count": 73,
   "metadata": {},
   "outputs": [],
   "source": [
    "class GraphState(TypedDict):\n",
    "    report : str\n",
    "    generation : str    \n",
    "    summary : str\n",
    "    translation: str\n",
    "    Anamoly : str\n",
    "    root_cause : str\n",
    "    path : str"
   ]
  },
  {
   "cell_type": "code",
   "execution_count": 74,
   "metadata": {},
   "outputs": [],
   "source": [
    "def ocr(state):\n",
    "    path = state[\"path\"]\n",
    "    reader = easyocr.Reader(['en'])\n",
    "    result = reader.readtext(path)\n",
    "    response = [detection[1] for detection in result]\n",
    "    response_text = '\\n'.join(response)\n",
    "    print(\"HI\")\n",
    "    return {\"report\" : response_text}"
   ]
  },
  {
   "cell_type": "code",
   "execution_count": 75,
   "metadata": {},
   "outputs": [],
   "source": [
    "def report(state):\n",
    "    report = state[\"report\"]\n",
    "    response = llm.invoke(f\"You are being provided a medical report correct this grammatically{report} Note: Do not add anything extra. Just return the report as it is.\").content\n",
    "    print(\"INSIDE REPORT\")\n",
    "    return {\"generation\" : response}"
   ]
  },
  {
   "cell_type": "code",
   "execution_count": 76,
   "metadata": {},
   "outputs": [],
   "source": [
    "def generate_summary(state):\n",
    "    generation = state[\"generation\"]\n",
    "\n",
    "    response = llm.invoke(f\"\"\"You are an Expert in Evaluating medical Reports.You are given the report, \n",
    "                          Based on the report Devise a comprehensive of the report in not more than 150 words.\n",
    "                          Note: The summary you generate should be generated in layman terms. Keep the summary as \n",
    "                          simple as possible. report {generation}\"\"\").content\n",
    "    print(\"INSIDE SUMMARY\")\n",
    "    print(response)\n",
    "    \n",
    "    return {\"summary\" : response}"
   ]
  },
  {
   "cell_type": "code",
   "execution_count": 77,
   "metadata": {},
   "outputs": [],
   "source": [
    "def anamoly_detection(state):#this is an edge\n",
    "    summary = state[\"summary\"]\n",
    "\n",
    "    class Route_Anamoly(BaseModel):\n",
    "        Binary_Score: str = Field(..., description=\"Does this report contain abnormal values? Yes or No\")\n",
    "\n",
    "    structured_llm = llm.with_structured_output(Route_Anamoly)\n",
    "\n",
    "    system = \"\"\"\n",
    "    You are provided with a summary of a medical report containing various measurements and observations. \n",
    "    Your task is to identify any abnormal values or measurements. A value is considered abnormal if it is described as \"elevated,\" \"low,\" \"absent,\" or if it falls outside the reference range.\n",
    "    If any abnormal values are found, respond with 'Yes'. If no abnormal values are found, or if the summary lacks numerical data, respond with 'No'.\n",
    "    \"\"\"\n",
    "\n",
    "    binary_prompt = ChatPromptTemplate.from_messages(\n",
    "        [\n",
    "            (\"system\", system),\n",
    "            (\"human\", \"report:{report}\")\n",
    "        ]\n",
    "    )\n",
    "\n",
    "    grader_chain = binary_prompt | structured_llm\n",
    "\n",
    "    llm_response = grader_chain.invoke({\"report\": summary})\n",
    "    print(\"Detecting anamoly\")\n",
    "    if llm_response.Binary_Score == \"Yes\":\n",
    "        return \"Anamoly\"\n",
    "    else:\n",
    "        return \"Normal\"\n"
   ]
  },
  {
   "cell_type": "code",
   "execution_count": 78,
   "metadata": {},
   "outputs": [],
   "source": [
    "def value_extractor(state):\n",
    "    summary = state[\"summary\"]\n",
    "\n",
    "    system = \"\"\"\n",
    "    You are given a medical report summary that includes various measurements and observations. \n",
    "    Your task is to identify and extract all values or measurements that are described as abnormal. \n",
    "    A value is considered abnormal if it is described as \"elevated,\" \"low,\" \"absent,\" or if it is outside the reference range.\n",
    "    Return the abnormal values along with the associated measurement.\n",
    "    If no abnormal values are found, respond with 'None'.\n",
    "    \"\"\"\n",
    "    print(\"hey\")\n",
    "    extraction_prompt = ChatPromptTemplate.from_messages(\n",
    "        [\n",
    "            (\"system\", system),\n",
    "            (\"human\", f\"summary: {summary}\")\n",
    "        ]\n",
    "    )\n",
    "\n",
    "    chain = extraction_prompt | llm\n",
    "    extracted_values = chain.invoke({summary : summary})\n",
    "    extracted_values = extracted_values.content\n",
    "    print(\"Exiting the extacted values node\")\n",
    "    print(extracted_values)\n",
    "    return {\"Anamoly\": extracted_values}\n"
   ]
  },
  {
   "cell_type": "code",
   "execution_count": 79,
   "metadata": {},
   "outputs": [],
   "source": [
    "# def root_cause(state):\n",
    "#     summary = state[\"summary\"]\n",
    "\n",
    "#     system = \"\"\"\n",
    "#             Hey, You are given a summary of the report. Based on the summary you have to generate\n",
    "#             The possible Root causes of the summary and provide it in a concise manner\"\"\"\n",
    "    \n",
    "#     extraction_prompt = ChatPromptTemplate.from_messages(\n",
    "#         [\n",
    "#             (\"system\", system),\n",
    "#             \"human\", f\"summary : {summary}\"\n",
    "#         ]\n",
    "#     )\n",
    "\n",
    "#     chain = extraction_prompt | llm\n",
    "#     root_causes = chain.invoke({summary : summary})\n",
    "#     root_causes = root_causes.content\n",
    "#     print(root_causes)\n",
    "    "
   ]
  },
  {
   "cell_type": "code",
   "execution_count": 80,
   "metadata": {},
   "outputs": [],
   "source": [
    "def root_cause(state):#THIS IS A NODE\n",
    "    anamoly = state[\"Anamoly\"]\n",
    "    response = llm.invoke(f\"\"\"From the given extracted values find out the root causes.\n",
    "                          NOTE: Only find out root cause and nothing else. Values{anamoly}\"\"\")\n",
    "    response = response.content\n",
    "\n",
    "    print(response)\n",
    "    return {\"root_cause\" : response}"
   ]
  },
  {
   "cell_type": "code",
   "execution_count": 81,
   "metadata": {},
   "outputs": [],
   "source": [
    "def root_cause_1(state):\n",
    "    anamoly = state[\"Anamoly\"]\n",
    "\n",
    "    response_1 = llm.invoke(f\"\"\"From the given extracted values find out the root causes.\n",
    "                            NOTE: Only find out root cause and nothing else. Values{anamoly}\"\"\")\n",
    "    response_1 = response_1.content\n",
    "\n",
    "    print(response_1)\n",
    "    return {\"root_cause\" : response_1}"
   ]
  },
  {
   "cell_type": "code",
   "execution_count": 82,
   "metadata": {},
   "outputs": [],
   "source": [
    "workflow = StateGraph(GraphState)\n",
    "\n",
    "workflow.add_node(\"ocr_node\", ocr)\n",
    "workflow.add_node(\"report_node\", report)\n",
    "workflow.add_node(\"generate_summary_node\", generate_summary)\n",
    "# workflow.add_node(\"Translation_node\",Translate_Summary)\n",
    "workflow.add_node(\"value_extractor_node\", value_extractor)\n",
    "workflow.add_node(\"root_cause_node\", root_cause)\n",
    "workflow.add_node(\"root_cause_1_node\", root_cause_1)\n",
    "\n",
    "workflow.add_edge(START, \"ocr_node\")\n",
    "workflow.add_edge(\"ocr_node\", \"report_node\")\n",
    "workflow.add_edge(\"report_node\", \"generate_summary_node\")\n",
    "# workflow.add_edge(\"generate_summary_node\",\"Translation_node\")\n",
    "workflow.add_edge(\"generate_summary_node\", END)\n",
    "# workflow.add_edge(\"Translation_node\",END)\n",
    "\n",
    "workflow.add_conditional_edges(\"generate_summary_node\", anamoly_detection,{\n",
    "    \"Anamoly\" : \"value_extractor_node\",\n",
    "    \"Normal\": \"root_cause_1_node\"\n",
    "})\n",
    "\n",
    "workflow.add_edge(\"root_cause_1_node\", END)\n",
    "\n",
    "workflow.add_edge(\"value_extractor_node\", \"root_cause_node\")\n",
    "workflow.add_edge(\"root_cause_node\", END)\n",
    "\n",
    "app = workflow.compile()"
   ]
  },
  {
   "cell_type": "code",
   "execution_count": 83,
   "metadata": {},
   "outputs": [
    {
     "data": {
      "image/png": "[encoded data removed]",
      "text/plain": [
       "<IPython.core.display.Image object>"
      ]
     },
     "metadata": {},
     "output_type": "display_data"
    }
   ],
   "source": [
    "from IPython.display import Image, display\n",
    "\n",
    "try:\n",
    "    display(Image(app.get_graph().draw_mermaid_png()))\n",
    "except Exception:\n",
    "    pass"
   ]
  },
  {
   "cell_type": "code",
   "execution_count": 84,
   "metadata": {},
   "outputs": [
    {
     "name": "stderr",
     "output_type": "stream",
     "text": [
      "Neither CUDA nor MPS are available - defaulting to CPU. Note: This module is much faster with a GPU.\n"
     ]
    },
    {
     "name": "stdout",
     "output_type": "stream",
     "text": [
      "HI\n",
      "\"Node 'ocr_node':\"\n",
      "'\\n---\\n'\n",
      "INSIDE REPORT\n",
      "\"Node 'report_node':\"\n",
      "'\\n---\\n'\n",
      "INSIDE SUMMARY\n",
      "A skin biopsy from the chest of a 57-year-old male patient, Davidi Test, confirmed a diagnosis of Grover's disease.  Microscopic examination revealed characteristic features of this condition, including small splits within the skin layers, detached skin cells, and specific cell formations (corps ronds and grains). The sample, measuring 0.4 cm wide and 0.6 cm deep, was processed and examined at Regional Medical Laboratory. The report was issued on February 29, 2008, and printed on July 18, 2008.\n",
      "\n",
      "Detecting anamoly\n",
      "\"Node 'generate_summary_node':\"\n",
      "'\\n---\\n'\n"
     ]
    },
    {
     "ename": "KeyError",
     "evalue": "'Anamoly'",
     "output_type": "error",
     "traceback": [
      "\u001b[1;31m---------------------------------------------------------------------------\u001b[0m",
      "\u001b[1;31mKeyError\u001b[0m                                  Traceback (most recent call last)",
      "Cell \u001b[1;32mIn[84], line 5\u001b[0m\n\u001b[0;32m      1\u001b[0m \u001b[38;5;28;01mfrom\u001b[39;00m \u001b[38;5;21;01mpprint\u001b[39;00m \u001b[38;5;28;01mimport\u001b[39;00m pprint\n\u001b[0;32m      2\u001b[0m inputs \u001b[38;5;241m=\u001b[39m {\n\u001b[0;32m      3\u001b[0m     \u001b[38;5;124m\"\u001b[39m\u001b[38;5;124mpath\u001b[39m\u001b[38;5;124m\"\u001b[39m: \u001b[38;5;124mr\u001b[39m\u001b[38;5;124m\"\u001b[39m\u001b[38;5;124mC:\u001b[39m\u001b[38;5;124m\\\u001b[39m\u001b[38;5;124mUsers\u001b[39m\u001b[38;5;124m\\\u001b[39m\u001b[38;5;124maashutosh kumar\u001b[39m\u001b[38;5;124m\\\u001b[39m\u001b[38;5;124mOneDrive\u001b[39m\u001b[38;5;124m\\\u001b[39m\u001b[38;5;124mPictures\u001b[39m\u001b[38;5;124m\\\u001b[39m\u001b[38;5;124mWhatsApp Image 2024-08-29 at 18.24.59_e668341d.jpg\u001b[39m\u001b[38;5;124m\"\u001b[39m\n\u001b[0;32m      4\u001b[0m }\n\u001b[1;32m----> 5\u001b[0m \u001b[38;5;28;01mfor\u001b[39;00m output \u001b[38;5;129;01min\u001b[39;00m app\u001b[38;5;241m.\u001b[39mstream(inputs):\n\u001b[0;32m      6\u001b[0m     \u001b[38;5;28;01mfor\u001b[39;00m key, value \u001b[38;5;129;01min\u001b[39;00m output\u001b[38;5;241m.\u001b[39mitems():\n\u001b[0;32m      7\u001b[0m         pprint(\u001b[38;5;124mf\u001b[39m\u001b[38;5;124m\"\u001b[39m\u001b[38;5;124mNode \u001b[39m\u001b[38;5;124m'\u001b[39m\u001b[38;5;132;01m{\u001b[39;00mkey\u001b[38;5;132;01m}\u001b[39;00m\u001b[38;5;124m'\u001b[39m\u001b[38;5;124m:\u001b[39m\u001b[38;5;124m\"\u001b[39m)\n",
      "File \u001b[1;32mc:\\a\\envs\\venv\\lib\\site-packages\\langgraph\\pregel\\__init__.py:1656\u001b[0m, in \u001b[0;36mPregel.stream\u001b[1;34m(self, input, config, stream_mode, output_keys, interrupt_before, interrupt_after, debug, subgraphs)\u001b[0m\n\u001b[0;32m   1650\u001b[0m     \u001b[38;5;66;03m# Similarly to Bulk Synchronous Parallel / Pregel model\u001b[39;00m\n\u001b[0;32m   1651\u001b[0m     \u001b[38;5;66;03m# computation proceeds in steps, while there are channel updates\u001b[39;00m\n\u001b[0;32m   1652\u001b[0m     \u001b[38;5;66;03m# channel updates from step N are only visible in step N+1\u001b[39;00m\n\u001b[0;32m   1653\u001b[0m     \u001b[38;5;66;03m# channels are guaranteed to be immutable for the duration of the step,\u001b[39;00m\n\u001b[0;32m   1654\u001b[0m     \u001b[38;5;66;03m# with channel updates applied only at the transition between steps\u001b[39;00m\n\u001b[0;32m   1655\u001b[0m     \u001b[38;5;28;01mwhile\u001b[39;00m loop\u001b[38;5;241m.\u001b[39mtick(input_keys\u001b[38;5;241m=\u001b[39m\u001b[38;5;28mself\u001b[39m\u001b[38;5;241m.\u001b[39minput_channels):\n\u001b[1;32m-> 1656\u001b[0m         \u001b[38;5;28;01mfor\u001b[39;00m _ \u001b[38;5;129;01min\u001b[39;00m runner\u001b[38;5;241m.\u001b[39mtick(\n\u001b[0;32m   1657\u001b[0m             loop\u001b[38;5;241m.\u001b[39mtasks\u001b[38;5;241m.\u001b[39mvalues(),\n\u001b[0;32m   1658\u001b[0m             timeout\u001b[38;5;241m=\u001b[39m\u001b[38;5;28mself\u001b[39m\u001b[38;5;241m.\u001b[39mstep_timeout,\n\u001b[0;32m   1659\u001b[0m             retry_policy\u001b[38;5;241m=\u001b[39m\u001b[38;5;28mself\u001b[39m\u001b[38;5;241m.\u001b[39mretry_policy,\n\u001b[0;32m   1660\u001b[0m             get_waiter\u001b[38;5;241m=\u001b[39mget_waiter,\n\u001b[0;32m   1661\u001b[0m         ):\n\u001b[0;32m   1662\u001b[0m             \u001b[38;5;66;03m# emit output\u001b[39;00m\n\u001b[0;32m   1663\u001b[0m             \u001b[38;5;28;01myield from\u001b[39;00m output()\n\u001b[0;32m   1664\u001b[0m \u001b[38;5;66;03m# emit output\u001b[39;00m\n",
      "File \u001b[1;32mc:\\a\\envs\\venv\\lib\\site-packages\\langgraph\\pregel\\runner.py:167\u001b[0m, in \u001b[0;36mPregelRunner.tick\u001b[1;34m(self, tasks, reraise, timeout, retry_policy, get_waiter)\u001b[0m\n\u001b[0;32m    165\u001b[0m t \u001b[38;5;241m=\u001b[39m tasks[\u001b[38;5;241m0\u001b[39m]\n\u001b[0;32m    166\u001b[0m \u001b[38;5;28;01mtry\u001b[39;00m:\n\u001b[1;32m--> 167\u001b[0m     \u001b[43mrun_with_retry\u001b[49m\u001b[43m(\u001b[49m\n\u001b[0;32m    168\u001b[0m \u001b[43m        \u001b[49m\u001b[43mt\u001b[49m\u001b[43m,\u001b[49m\n\u001b[0;32m    169\u001b[0m \u001b[43m        \u001b[49m\u001b[43mretry_policy\u001b[49m\u001b[43m,\u001b[49m\n\u001b[0;32m    170\u001b[0m \u001b[43m        \u001b[49m\u001b[43mconfigurable\u001b[49m\u001b[38;5;241;43m=\u001b[39;49m\u001b[43m{\u001b[49m\n\u001b[0;32m    171\u001b[0m \u001b[43m            \u001b[49m\u001b[43mCONFIG_KEY_SEND\u001b[49m\u001b[43m:\u001b[49m\u001b[43m \u001b[49m\u001b[43mpartial\u001b[49m\u001b[43m(\u001b[49m\u001b[43mwriter\u001b[49m\u001b[43m,\u001b[49m\u001b[43m \u001b[49m\u001b[43mt\u001b[49m\u001b[43m)\u001b[49m\u001b[43m,\u001b[49m\n\u001b[0;32m    172\u001b[0m \u001b[43m            \u001b[49m\u001b[43mCONFIG_KEY_CALL\u001b[49m\u001b[43m:\u001b[49m\u001b[43m \u001b[49m\u001b[43mpartial\u001b[49m\u001b[43m(\u001b[49m\u001b[43mcall\u001b[49m\u001b[43m,\u001b[49m\u001b[43m \u001b[49m\u001b[43mt\u001b[49m\u001b[43m)\u001b[49m\u001b[43m,\u001b[49m\n\u001b[0;32m    173\u001b[0m \u001b[43m        \u001b[49m\u001b[43m}\u001b[49m\u001b[43m,\u001b[49m\n\u001b[0;32m    174\u001b[0m \u001b[43m    \u001b[49m\u001b[43m)\u001b[49m\n\u001b[0;32m    175\u001b[0m     \u001b[38;5;28mself\u001b[39m\u001b[38;5;241m.\u001b[39mcommit(t, \u001b[38;5;28;01mNone\u001b[39;00m)\n\u001b[0;32m    176\u001b[0m \u001b[38;5;28;01mexcept\u001b[39;00m \u001b[38;5;167;01mException\u001b[39;00m \u001b[38;5;28;01mas\u001b[39;00m exc:\n",
      "File \u001b[1;32mc:\\a\\envs\\venv\\lib\\site-packages\\langgraph\\pregel\\retry.py:40\u001b[0m, in \u001b[0;36mrun_with_retry\u001b[1;34m(task, retry_policy, configurable)\u001b[0m\n\u001b[0;32m     38\u001b[0m     task\u001b[38;5;241m.\u001b[39mwrites\u001b[38;5;241m.\u001b[39mclear()\n\u001b[0;32m     39\u001b[0m     \u001b[38;5;66;03m# run the task\u001b[39;00m\n\u001b[1;32m---> 40\u001b[0m     \u001b[38;5;28;01mreturn\u001b[39;00m \u001b[43mtask\u001b[49m\u001b[38;5;241;43m.\u001b[39;49m\u001b[43mproc\u001b[49m\u001b[38;5;241;43m.\u001b[39;49m\u001b[43minvoke\u001b[49m\u001b[43m(\u001b[49m\u001b[43mtask\u001b[49m\u001b[38;5;241;43m.\u001b[39;49m\u001b[43minput\u001b[49m\u001b[43m,\u001b[49m\u001b[43m \u001b[49m\u001b[43mconfig\u001b[49m\u001b[43m)\u001b[49m\n\u001b[0;32m     41\u001b[0m \u001b[38;5;28;01mexcept\u001b[39;00m ParentCommand \u001b[38;5;28;01mas\u001b[39;00m exc:\n\u001b[0;32m     42\u001b[0m     ns: \u001b[38;5;28mstr\u001b[39m \u001b[38;5;241m=\u001b[39m config[CONF][CONFIG_KEY_CHECKPOINT_NS]\n",
      "File \u001b[1;32mc:\\a\\envs\\venv\\lib\\site-packages\\langgraph\\utils\\runnable.py:408\u001b[0m, in \u001b[0;36mRunnableSeq.invoke\u001b[1;34m(self, input, config, **kwargs)\u001b[0m\n\u001b[0;32m    404\u001b[0m config \u001b[38;5;241m=\u001b[39m patch_config(\n\u001b[0;32m    405\u001b[0m     config, callbacks\u001b[38;5;241m=\u001b[39mrun_manager\u001b[38;5;241m.\u001b[39mget_child(\u001b[38;5;124mf\u001b[39m\u001b[38;5;124m\"\u001b[39m\u001b[38;5;124mseq:step:\u001b[39m\u001b[38;5;132;01m{\u001b[39;00mi\u001b[38;5;241m+\u001b[39m\u001b[38;5;241m1\u001b[39m\u001b[38;5;132;01m}\u001b[39;00m\u001b[38;5;124m\"\u001b[39m)\n\u001b[0;32m    406\u001b[0m )\n\u001b[0;32m    407\u001b[0m \u001b[38;5;28;01mif\u001b[39;00m i \u001b[38;5;241m==\u001b[39m \u001b[38;5;241m0\u001b[39m:\n\u001b[1;32m--> 408\u001b[0m     \u001b[38;5;28minput\u001b[39m \u001b[38;5;241m=\u001b[39m step\u001b[38;5;241m.\u001b[39minvoke(\u001b[38;5;28minput\u001b[39m, config, \u001b[38;5;241m*\u001b[39m\u001b[38;5;241m*\u001b[39mkwargs)\n\u001b[0;32m    409\u001b[0m \u001b[38;5;28;01melse\u001b[39;00m:\n\u001b[0;32m    410\u001b[0m     \u001b[38;5;28minput\u001b[39m \u001b[38;5;241m=\u001b[39m step\u001b[38;5;241m.\u001b[39minvoke(\u001b[38;5;28minput\u001b[39m, config)\n",
      "File \u001b[1;32mc:\\a\\envs\\venv\\lib\\site-packages\\langgraph\\utils\\runnable.py:184\u001b[0m, in \u001b[0;36mRunnableCallable.invoke\u001b[1;34m(self, input, config, **kwargs)\u001b[0m\n\u001b[0;32m    182\u001b[0m \u001b[38;5;28;01melse\u001b[39;00m:\n\u001b[0;32m    183\u001b[0m     context\u001b[38;5;241m.\u001b[39mrun(_set_config_context, config)\n\u001b[1;32m--> 184\u001b[0m     ret \u001b[38;5;241m=\u001b[39m context\u001b[38;5;241m.\u001b[39mrun(\u001b[38;5;28mself\u001b[39m\u001b[38;5;241m.\u001b[39mfunc, \u001b[38;5;28minput\u001b[39m, \u001b[38;5;241m*\u001b[39m\u001b[38;5;241m*\u001b[39mkwargs)\n\u001b[0;32m    185\u001b[0m \u001b[38;5;28;01mif\u001b[39;00m \u001b[38;5;28misinstance\u001b[39m(ret, Runnable) \u001b[38;5;129;01mand\u001b[39;00m \u001b[38;5;28mself\u001b[39m\u001b[38;5;241m.\u001b[39mrecurse:\n\u001b[0;32m    186\u001b[0m     \u001b[38;5;28;01mreturn\u001b[39;00m ret\u001b[38;5;241m.\u001b[39minvoke(\u001b[38;5;28minput\u001b[39m, config)\n",
      "Cell \u001b[1;32mIn[81], line 2\u001b[0m, in \u001b[0;36mroot_cause_1\u001b[1;34m(state)\u001b[0m\n\u001b[0;32m      1\u001b[0m \u001b[38;5;28;01mdef\u001b[39;00m \u001b[38;5;21mroot_cause_1\u001b[39m(state):\n\u001b[1;32m----> 2\u001b[0m     anamoly \u001b[38;5;241m=\u001b[39m \u001b[43mstate\u001b[49m\u001b[43m[\u001b[49m\u001b[38;5;124;43m\"\u001b[39;49m\u001b[38;5;124;43mAnamoly\u001b[39;49m\u001b[38;5;124;43m\"\u001b[39;49m\u001b[43m]\u001b[49m\n\u001b[0;32m      4\u001b[0m     response_1 \u001b[38;5;241m=\u001b[39m llm\u001b[38;5;241m.\u001b[39minvoke(\u001b[38;5;124mf\u001b[39m\u001b[38;5;124m\"\"\"\u001b[39m\u001b[38;5;124mFrom the given extracted values find out the root causes.\u001b[39m\n\u001b[0;32m      5\u001b[0m \u001b[38;5;124m                            NOTE: Only find out root cause and nothing else. Values\u001b[39m\u001b[38;5;132;01m{\u001b[39;00manamoly\u001b[38;5;132;01m}\u001b[39;00m\u001b[38;5;124m\"\"\"\u001b[39m)\n\u001b[0;32m      6\u001b[0m     response_1 \u001b[38;5;241m=\u001b[39m response_1\u001b[38;5;241m.\u001b[39mcontent\n",
      "\u001b[1;31mKeyError\u001b[0m: 'Anamoly'"
     ]
    }
   ],
   "source": [
    "from pprint import pprint\n",
    "inputs = {\n",
    "    \"path\": r\"C:\\Users\\aashutosh kumar\\OneDrive\\Pictures\\WhatsApp Image 2024-08-29 at 18.24.59_e668341d.jpg\"\n",
    "}\n",
    "for output in app.stream(inputs):\n",
    "    for key, value in output.items():\n",
    "        pprint(f\"Node '{key}':\")\n",
    "    pprint(\"\\n---\\n\")\n",
    "\n",
    "# Final generation\n",
    "# pprint(value[\"generation\"])"
   ]
  },
  {
   "cell_type": "code",
   "execution_count": null,
   "metadata": {},
   "outputs": [],
   "source": []
  }
 ],
 "metadata": {
  "kernelspec": {
   "display_name": "venv",
   "language": "python",
   "name": "python3"
  },
  "language_info": {
   "codemirror_mode": {
    "name": "ipython",
    "version": 3
   },
   "file_extension": ".py",
   "mimetype": "text/x-python",
   "name": "python",
   "nbconvert_exporter": "python",
   "pygments_lexer": "ipython3",
   "version": "3.10.16"
  }
 },
 "nbformat": 4,
 "nbformat_minor": 2
}
